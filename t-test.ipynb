{
 "cells": [
  {
   "cell_type": "markdown",
   "metadata": {},
   "source": [
    "# t-test\n",
    "- A t-test is an analysis of two populations means through the use of statistical examination\n",
    "- a t-test with two samples is commonly used with small sample sizes, testing the difference between the samples when the variances of two normal distributions are not known.\n",
    "\n",
    "- For a large sample size, statisticians use a z-test. Other testing options include the chi-square test and the f-test.\n",
    "- Read more: T-Test http://www.socialresearchmethods.net/kb/stat_t.php\n",
    "- Read more: T-Test http://www.investopedia.com/terms/t/t-test "
   ]
  },
  {
   "cell_type": "markdown",
   "metadata": {},
   "source": [
    "# t-test in python 3 (code snippet)"
   ]
  },
  {
   "cell_type": "code",
   "execution_count": 23,
   "metadata": {
    "collapsed": false
   },
   "outputs": [
    {
     "name": "stdout",
     "output_type": "stream",
     "text": [
      "p-value=0.024 <0.05 means more than 95percent confident that arr1 and arr2 come from two different distributions\n"
     ]
    }
   ],
   "source": [
    "import scipy.stats as sstat\n",
    "\n",
    "arr1 = [1,2,4,6,2,1,2]\n",
    "arr2 = [10,21,14,26,12,1,2,50,61]\n",
    "# assume arr1 and arr2 might not have the same variance\n",
    "t , p = sstat.ttest_ind( arr1, arr2, equal_var=False)\n",
    "print(\"p-value=%.3f <0.05 means more than 95percent confident that arr1 and arr2 come from two different distributions\"%(p))"
   ]
  },
  {
   "cell_type": "markdown",
   "metadata": {},
   "source": [
    "# t-test details\n",
    "The formula used to calculate the test is a ratio: The top portion of the ratio is the easiest portion to calculate and understand, as it is simply the difference between the means or averages of the two samples. The lower half of the ratio is a measurement of the dispersion, or variability, of the scores. The bottom part of this ratio is known as the standard error of the difference. To compute this part of the ratio, the variance for each sample is determined and is then divided by the number of individuals the compose the sample, or group. These two values are then added together, and a square root is taken of the result.\n",
    "\n",
    "Read more: T-Test http://www.investopedia.com/terms/t/t-test.asp#ixzz4qTOh4YQP "
   ]
  }
 ],
 "metadata": {
  "kernelspec": {
   "display_name": "Python 3",
   "language": "python",
   "name": "python3"
  },
  "language_info": {
   "codemirror_mode": {
    "name": "ipython",
    "version": 3
   },
   "file_extension": ".py",
   "mimetype": "text/x-python",
   "name": "python",
   "nbconvert_exporter": "python",
   "pygments_lexer": "ipython3",
   "version": "3.6.0"
  }
 },
 "nbformat": 4,
 "nbformat_minor": 2
}
